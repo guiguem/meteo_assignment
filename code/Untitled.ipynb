{
 "cells": [
  {
   "cell_type": "code",
   "execution_count": 3,
   "metadata": {},
   "outputs": [],
   "source": [
    "import time\n",
    "import numpy as np\n",
    "import matplotlib.pyplot as plt\n",
    "\n",
    "%matplotlib inline"
   ]
  },
  {
   "cell_type": "code",
   "execution_count": 4,
   "metadata": {},
   "outputs": [
    {
     "data": {
      "text/plain": [
       "[<matplotlib.lines.Line2D at 0x1045a5d30>]"
      ]
     },
     "execution_count": 4,
     "metadata": {},
     "output_type": "execute_result"
    },
    {
     "data": {
      "image/png": "[encoded data removed]",
      "text/plain": [
       "<matplotlib.figure.Figure at 0x1044dbda0>"
      ]
     },
     "metadata": {},
     "output_type": "display_data"
    }
   ],
   "source": [
    "n = 10000 \n",
    "ts_len = 500\n",
    "\n",
    "phases = np.array(np.random.randint(0, 50, [n, 2]))\n",
    "pure = np.sin([np.linspace(-np.pi * x[0], -np.pi * x[1], ts_len) for x in phases])\n",
    "noise = np.array([np.random.normal(0, 1, ts_len) for x in range(n)])\n",
    "\n",
    "signals = pure * noise\n",
    "           \n",
    "# Normalize everything between 0 and 1\n",
    "signals += np.abs(np.min(signals))\n",
    "signals /= np.max(signals)\n",
    "\n",
    "plt.plot(signals[0])"
   ]
  },
  {
   "cell_type": "code",
   "execution_count": 3,
   "metadata": {},
   "outputs": [],
   "source": [
    "def euclid_dist(t1, t2):\n",
    "         return np.sqrt(((t1-t2)**2).sum())\n",
    "def k_means(data, num_clust, num_iter):\n",
    "    centroids = signals[np.random.randint(0, signals.shape[0], num_clust)]\n",
    "\n",
    "    for n in range(num_iter): \n",
    "        assignments={}\n",
    "        for ind, i in enumerate(data):\n",
    "            min_dist = float('inf') \n",
    "            closest_clust = None\n",
    "            for c_ind, j in enumerate(centroids):\n",
    "                dist = euclid_dist(i, j) \n",
    "                if dist < min_dist:\n",
    "                   min_dist = dist\n",
    "                   closest_clust = c_ind\n",
    "\n",
    "            if closest_clust in assignments: \n",
    "                assignments[closest_clust].append(ind)\n",
    "            else:\n",
    "                assignments[closest_clust]=[] \n",
    "                assignments[closest_clust].append(ind)\n",
    "\n",
    "        for key in assignments:\n",
    "            clust_sum = 0\n",
    "            for k in assignments[key]: \n",
    "                clust_sum = clust_sum + data[k]\n",
    "            centroids[key] = [m / len(assignments[key]) for m in clust_sum] \n",
    "\n",
    "    return centroids"
   ]
  },
  {
   "cell_type": "code",
   "execution_count": null,
   "metadata": {},
   "outputs": [],
   "source": [
    "t1 = time.time()\n",
    "centroids = k_means(signals, 100, 100)\n",
    "t2 = time.time()\n",
    "print(\"Took {} seconds\".format(t2 - t1))"
   ]
  },
  {
   "cell_type": "code",
   "execution_count": 5,
   "metadata": {},
   "outputs": [],
   "source": [
    "def euclid_dist(t1, t2):\n",
    "    return np.sqrt(((t1-t2)**2).sum(axis = 1))\n",
    "\n",
    "def calc_centroids(data, centroids):\n",
    "    dist = np.zeros([data.shape[0], centroids.shape[0]])\n",
    "\n",
    "    for idx, centroid in enumerate(centroids): \n",
    "        dist[:, idx] = euclid_dist(centroid, data)\n",
    "\n",
    "    return np.array(dist)\n",
    "\n",
    "def closest_centroids(data, centroids): \n",
    "    dist = calc_centroids(data, centroids) \n",
    "    return np.argmin(dist, axis = 1)\n",
    "\n",
    "def move_centroids(data, closest, centroids):\n",
    "    k = centroids.shape[0]\n",
    "    new_centroids = np.array([data[closest == c].mean(axis = 0) for c in np.unique(closest)])\n",
    "\n",
    "    if k - new_centroids.shape[0] > 0:\n",
    "       print(\"adding {} centroid(s)\".format(k - new_centroids.shape[0]))\n",
    "       additional_centroids = data[np.random.randint(0, data.shape[0], k - new_centroids.shape[0])] \n",
    "       new_centroids = np.append(new_centroids, additional_centroids, axis = 0)\n",
    "\n",
    "    return new_centroids\n",
    "\n",
    "def k_means(data, num_clust, num_iter):\n",
    "    centroids = signals[np.random.randint(0, signals.shape[0], num_clust)]\n",
    "    last_centroids = centroids\n",
    "\n",
    "    for n in range(num_iter):\n",
    "        closest = closest_centroids(data, centroids)\n",
    "        centroids = move_centroids(data, closest, centroids)\n",
    "        if not np.any(last_centroids != centroids):\n",
    "           print(\"early finish!\")\n",
    "           break\n",
    "        last_centroids = centroids \n",
    "    \n",
    "    return centroids"
   ]
  },
  {
   "cell_type": "code",
   "execution_count": 6,
   "metadata": {},
   "outputs": [
    {
     "name": "stdout",
     "output_type": "stream",
     "text": [
      "adding 1 centroid(s)\n",
      "early finish!\n",
      "Took 5.983506917953491 seconds\n"
     ]
    }
   ],
   "source": [
    "t1 = time.time()\n",
    "centroids = k_means(signals, 100, 100)\n",
    "t2 = time.time()\n",
    "print(\"Took {} seconds\".format(t2 - t1))"
   ]
  },
  {
   "cell_type": "code",
   "execution_count": null,
   "metadata": {},
   "outputs": [],
   "source": []
  }
 ],
 "metadata": {
  "kernelspec": {
   "display_name": "Python 3",
   "language": "python",
   "name": "python3"
  },
  "language_info": {
   "codemirror_mode": {
    "name": "ipython",
    "version": 3
   },
   "file_extension": ".py",
   "mimetype": "text/x-python",
   "name": "python",
   "nbconvert_exporter": "python",
   "pygments_lexer": "ipython3",
   "version": "3.6.4"
  }
 },
 "nbformat": 4,
 "nbformat_minor": 2
}
